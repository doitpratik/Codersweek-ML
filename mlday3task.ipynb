{
  "nbformat": 4,
  "nbformat_minor": 0,
  "metadata": {
    "colab": {
      "name": "Untitled",
      "provenance": [],
      "authorship_tag": "ABX9TyNK5ILnMqbswZZbSmZ/WNZ+",
      "include_colab_link": true
    },
    "kernelspec": {
      "name": "python3",
      "display_name": "Python 3"
    }
  },
  "cells": [
    {
      "cell_type": "markdown",
      "metadata": {
        "id": "view-in-github",
        "colab_type": "text"
      },
      "source": [
        "<a href=\"https://colab.research.google.com/github/soham283/Codersweek-ML/blob/master/mlday3task.ipynb\" target=\"_parent\"><img src=\"https://colab.research.google.com/assets/colab-badge.svg\" alt=\"Open In Colab\"/></a>"
      ]
    },
    {
      "cell_type": "code",
      "metadata": {
        "id": "YBafEhMe6IUc",
        "colab_type": "code",
        "colab": {}
      },
      "source": [
        "#1 IMPORTING THE REQUIRED LIBRARIES\n",
        "import numpy as np\n",
        "from sklearn.ensemble import RandomForestClassifier as RFC\n",
        "from sklearn.tree import DecisionTreeClassifier as DTC\n",
        "from matplotlib import pyplot as plt\n",
        "%matplotlib inline\n",
        "import datetime\n",
        "import pandas as pd\n",
        "from sklearn import preprocessing as pp\n",
        "from sklearn.linear_model import LogisticRegression as LR\n",
        "from sklearn.neighbors import KNeighborsClassifier as KNN\n",
        "\n",
        "import keras\n",
        "from keras.models import Sequential\n",
        "from keras.layers import Dense, Activation\n",
        "from keras.utils import np_utils\n",
        "\n",
        "\n"
      ],
      "execution_count": 0,
      "outputs": []
    },
    {
      "cell_type": "code",
      "metadata": {
        "id": "mKG5wNKHM20H",
        "colab_type": "code",
        "colab": {
          "base_uri": "https://localhost:8080/",
          "height": 35
        },
        "outputId": "7cc56406-0ac6-41d8-92d9-d8b0862b13c0"
      },
      "source": [
        "ds = pd.read_csv('http://iali.in/datasets/mushrooms.csv')\n",
        "dat = ds.values\n",
        "\n",
        "print (dat.shape)\n",
        "\n",
        "headers = list(ds.columns.values) #store features of mushrooms"
      ],
      "execution_count": 27,
      "outputs": [
        {
          "output_type": "stream",
          "text": [
            "(8124, 23)\n"
          ],
          "name": "stdout"
        }
      ]
    },
    {
      "cell_type": "code",
      "metadata": {
        "id": "knE4gIcZNvug",
        "colab_type": "code",
        "colab": {}
      },
      "source": [
        "#IGNORE THIS CELL\n",
        "\n",
        "arr = np.array([1,2,3])\n",
        "b = np.array([4, 5, 6])\n",
        "\n",
        "arr = np.vstack((arr, b))\n",
        "#q = np.concatenate((arr,b), axis=0)\n",
        "#print arr\n",
        "\n",
        "le = pp.LabelEncoder()\n",
        "le.fit(dat[:, 0])\n",
        "y = le.transform(dat[:, 0])\n",
        "le1 = pp.LabelEncoder()\n",
        "le1.fit(dat[:, 1])\n",
        "z = le1.transform(dat[:, 1])\n",
        "le2 = pp.LabelEncoder()\n",
        "le2.fit(dat[:, 2])\n",
        "zz = le2.transform(dat[:, 2])\n",
        "\n",
        "# y = np.vstack(y, z)\n",
        "# z = np.vstack(z)\n",
        "# y = np.vstack(y)\n",
        "qqw = np.vstack((y, z))\n",
        "qqw = np.vstack((qqw, zz))\n",
        "#print qqw.T"
      ],
      "execution_count": 0,
      "outputs": []
    },
    {
      "cell_type": "code",
      "metadata": {
        "id": "lV1J76E2OYgJ",
        "colab_type": "code",
        "colab": {
          "base_uri": "https://localhost:8080/",
          "height": 35
        },
        "outputId": "cbdbbde6-1f54-402b-d7f8-84ca7fff9e87"
      },
      "source": [
        "#Data Preprocessing\n",
        "l = pp.LabelEncoder()\n",
        "l.fit(dat[:, 0])\n",
        "dataa = l.transform(dat[:, 0])\n",
        "\n",
        "for ix in range(1, dat.shape[1]):\n",
        "    le = pp.LabelEncoder()\n",
        "    le.fit(dat[:, ix])\n",
        "    y = le.transform(dat[:, ix])\n",
        "    dataa = np.vstack((dataa , y))\n",
        "    \n",
        "data = dataa.T\n",
        "\n",
        "cate = data[:, 0] #One hot encoding for Neural Network implementation\n",
        "\n",
        "print (data.shape) ##FINALLLYY O YEAH!!!"
      ],
      "execution_count": 29,
      "outputs": [
        {
          "output_type": "stream",
          "text": [
            "(8124, 23)\n"
          ],
          "name": "stdout"
        }
      ]
    },
    {
      "cell_type": "code",
      "metadata": {
        "id": "UB3zyLEtOsjq",
        "colab_type": "code",
        "colab": {
          "base_uri": "https://localhost:8080/",
          "height": 54
        },
        "outputId": "36868117-063b-4c7a-be1c-fc7bfaca9969"
      },
      "source": [
        "split = int(0.80 * data.shape[0])\n",
        "\n",
        "x_train = data[:split , 1:]\n",
        "y_train = data[:split, 0]\n",
        "\n",
        "x_test = data[split: , 1:]\n",
        "y_test = data[split: , 0]\n",
        "\n",
        "print (x_train.shape, y_train.shape)\n",
        "print (x_test.shape, y_test.shape)"
      ],
      "execution_count": 30,
      "outputs": [
        {
          "output_type": "stream",
          "text": [
            "(6499, 22) (6499,)\n",
            "(1625, 22) (1625,)\n"
          ],
          "name": "stdout"
        }
      ]
    },
    {
      "cell_type": "code",
      "metadata": {
        "id": "d0B_cotfO0rB",
        "colab_type": "code",
        "colab": {}
      },
      "source": [
        "acc = []\n",
        "ans = []\n",
        "\n",
        "for ix in range(10):\n",
        "    dt = DTC()\n",
        "    \n",
        "    start = datetime.datetime.now()\n",
        "    dt.fit(x_train, y_train)\n",
        "    end = datetime.datetime.now()\n",
        "\n",
        "    #print \"Training Time : \", end-start\n",
        "\n",
        "    start = datetime.datetime.now()\n",
        "    score = dt.score(x_test, y_test)\n",
        "    end = datetime.datetime.now()\n",
        "\n",
        "    #print \"Testing Time : \", end-start\n",
        "\n",
        "    #print \"Accurcy : \", score*100 \n",
        "    acc.append(score*100)\n",
        "    tem = dt.feature_importances_\n",
        "    ans.append(tem)\n",
        "    #print \"\\n\""
      ],
      "execution_count": 0,
      "outputs": []
    },
    {
      "cell_type": "code",
      "metadata": {
        "id": "ydlhyIJ-O7ix",
        "colab_type": "code",
        "colab": {
          "base_uri": "https://localhost:8080/",
          "height": 312
        },
        "outputId": "923786d8-f8c2-4319-f8c5-fe9504132c06"
      },
      "source": [
        "temp = [] \n",
        "for ix in range(0, len(ans)):\n",
        "    temp.append(np.argmax(ans[ix]))\n",
        "    \n",
        "mode = max(set(temp), key=temp.count) #find mode for features importance in decision trees\n",
        "print (\"Features most indicative of a poisonous mushroom wrt Decision Tree Model : \", headers[mode+1])\n",
        "\n",
        "plt.figure(0)\n",
        "plt.suptitle('Decision Tree Plot', fontsize=10)\n",
        "plt.plot(acc, '-o')\n",
        "plt.ylabel('Accuracy', fontsize=16)\n",
        "plt.show()"
      ],
      "execution_count": 32,
      "outputs": [
        {
          "output_type": "stream",
          "text": [
            "Features most indicative of a poisonous mushroom wrt Decision Tree Model :  spore-print-color\n"
          ],
          "name": "stdout"
        },
        {
          "output_type": "display_data",
          "data": {
            "image/png": "[encoded data removed]",
            "text/plain": [
              "<Figure size 432x288 with 1 Axes>"
            ]
          },
          "metadata": {
            "tags": [],
            "needs_background": "light"
          }
        }
      ]
    },
    {
      "cell_type": "code",
      "metadata": {
        "id": "FMau0NF6PLdr",
        "colab_type": "code",
        "colab": {}
      },
      "source": [
        "est = [] #taking variable estimators\n",
        "acc = []\n",
        "ans = []\n",
        "for iy in range(2, 200, 20):\n",
        "    est.append(iy)\n",
        "\n",
        "for ix in range(len(est)):\n",
        "    rf = RFC(n_estimators=est[ix], n_jobs=2)\n",
        "    #print \"No. of Decision Trees : \", est[ix]\n",
        "    \n",
        "    start = datetime.datetime.now()\n",
        "    rf.fit(x_train, y_train)\n",
        "    end = datetime.datetime.now()\n",
        "\n",
        "    #print \"Training Time : \", end-start\n",
        "\n",
        "    start = datetime.datetime.now()\n",
        "    score = rf.score(x_test, y_test)\n",
        "    end = datetime.datetime.now()\n",
        "\n",
        "    #print \"Testing Time : \", end-start\n",
        "\n",
        "    #print \"Accurcy : \", score*100 \n",
        "    acc.append(score*100)\n",
        "    tem = rf.feature_importances_\n",
        "    ans.append(tem)\n",
        "    #print \"\\n\""
      ],
      "execution_count": 0,
      "outputs": []
    },
    {
      "cell_type": "code",
      "metadata": {
        "id": "W4B9ujlkPAnw",
        "colab_type": "code",
        "colab": {
          "base_uri": "https://localhost:8080/",
          "height": 331
        },
        "outputId": "0588c821-5f9b-4069-d3ea-30559fd2a4ea"
      },
      "source": [
        "temp = []\n",
        "\n",
        "for ix in range(0, len(ans)):\n",
        "    temp.append(np.argmax(ans[ix]))\n",
        "\n",
        "mode = max(set(temp), key=temp.count) #find mode for features importance in variable estimators\n",
        "print (\"Features most indicative of a poisonous mushroom wrt Random Forest Model : \", headers[mode+1])\n",
        "\n",
        "plt.figure(1)\n",
        "plt.suptitle('Random Forest Plot', fontsize=10)\n",
        "plt.plot(est, acc, '-o')\n",
        "plt.xlabel('Estimators', fontsize=16)\n",
        "plt.ylabel('Accuracy', fontsize=16)\n",
        "plt.show()"
      ],
      "execution_count": 34,
      "outputs": [
        {
          "output_type": "stream",
          "text": [
            "Features most indicative of a poisonous mushroom wrt Random Forest Model :  odor\n"
          ],
          "name": "stdout"
        },
        {
          "output_type": "display_data",
          "data": {
            "image/png": "[encoded data removed]",
            "text/plain": [
              "<Figure size 432x288 with 1 Axes>"
            ]
          },
          "metadata": {
            "tags": [],
            "needs_background": "light"
          }
        }
      ]
    },
    {
      "cell_type": "code",
      "metadata": {
        "id": "1SKh71X8PeIV",
        "colab_type": "code",
        "colab": {
          "base_uri": "https://localhost:8080/",
          "height": 72
        },
        "outputId": "7ccc675f-611b-470b-9ec6-e2a6a10f5fd9"
      },
      "source": [
        "lr = LR(n_jobs=-1)\n",
        "\n",
        "start = datetime.datetime.now()\n",
        "lr.fit(x_train, y_train)\n",
        "end = datetime.datetime.now()\n",
        "\n",
        "print (\"Training Time : \", end-start)\n",
        "\n",
        "start = datetime.datetime.now()\n",
        "score = lr.score(x_test, y_test)\n",
        "end = datetime.datetime.now()\n",
        "\n",
        "print (\"Testing Time : \", end-start)\n",
        "\n",
        "print (\"Accurcy : \", score*100 )\n",
        "\n",
        "features = dt.feature_importances_\n",
        "#print \"\\n\""
      ],
      "execution_count": 35,
      "outputs": [
        {
          "output_type": "stream",
          "text": [
            "Training Time :  0:00:00.952758\n",
            "Testing Time :  0:00:00.003876\n",
            "Accurcy :  89.23076923076924\n"
          ],
          "name": "stdout"
        }
      ]
    },
    {
      "cell_type": "code",
      "metadata": {
        "id": "t15SjPxSPtES",
        "colab_type": "code",
        "colab": {
          "base_uri": "https://localhost:8080/",
          "height": 35
        },
        "outputId": "daea9ceb-e213-4a2b-c501-52e0108ad916"
      },
      "source": [
        "temp = np.argmax(features)\n",
        "\n",
        "print (\"Features most indicative of a poisonous mushroom wrt Logistic Regression Model : \", headers[temp+1])"
      ],
      "execution_count": 36,
      "outputs": [
        {
          "output_type": "stream",
          "text": [
            "Features most indicative of a poisonous mushroom wrt Logistic Regression Model :  spore-print-color\n"
          ],
          "name": "stdout"
        }
      ]
    },
    {
      "cell_type": "code",
      "metadata": {
        "id": "237iuix-P0oK",
        "colab_type": "code",
        "colab": {}
      },
      "source": [
        "acc = []\n",
        "ans = []\n",
        "neighbours = []\n",
        "\n",
        "for ix in range(3, 200, 20):\n",
        "    neighbours.append(ix)\n",
        "\n",
        "for ix in range(len(neighbours)):\n",
        "    knn = KNN(n_neighbors=neighbours[ix], n_jobs=-1)\n",
        "    \n",
        "    start = datetime.datetime.now()\n",
        "    knn.fit(x_train, y_train)\n",
        "    end = datetime.datetime.now()\n",
        "\n",
        "    #print \"Training Time : \", end-start\n",
        "\n",
        "    start = datetime.datetime.now()\n",
        "    score = knn.score(x_test, y_test)\n",
        "    end = datetime.datetime.now()\n",
        "\n",
        "    #print \"Testing Time : \", end-start\n",
        "\n",
        "    #print \"Accurcy : \", score*100 \n",
        "    acc.append(score*100)\n",
        "    temp = dt.feature_importances_\n",
        "    ans.append(temp)\n",
        "    #print \"\\n\""
      ],
      "execution_count": 0,
      "outputs": []
    },
    {
      "cell_type": "code",
      "metadata": {
        "id": "3My_MAdqP5zT",
        "colab_type": "code",
        "colab": {
          "base_uri": "https://localhost:8080/",
          "height": 331
        },
        "outputId": "24efb34b-cf81-4532-923c-d898c8f38d49"
      },
      "source": [
        "temp = []\n",
        "\n",
        "for ix in range(0, len(ans)):\n",
        "    temp.append(np.argmax(ans[ix]))\n",
        "\n",
        "mode = max(set(temp), key=temp.count) #find mode for features importance in variable estimators\n",
        "print (\"Features most indicative of a poisonous mushroom wrt kNN : \", headers[mode+1])\n",
        "\n",
        "plt.figure(2)\n",
        "plt.suptitle('k-Nearest Neighbour Plot', fontsize=10)\n",
        "plt.plot(neighbours, acc, '-o')\n",
        "plt.xlabel('Neighbours', fontsize=16)\n",
        "plt.ylabel('Accuracy', fontsize=16)\n",
        "plt.show()"
      ],
      "execution_count": 38,
      "outputs": [
        {
          "output_type": "stream",
          "text": [
            "Features most indicative of a poisonous mushroom wrt kNN :  spore-print-color\n"
          ],
          "name": "stdout"
        },
        {
          "output_type": "display_data",
          "data": {
            "image/png": "[encoded data removed]",
            "text/plain": [
              "<Figure size 432x288 with 1 Axes>"
            ]
          },
          "metadata": {
            "tags": [],
            "needs_background": "light"
          }
        }
      ]
    },
    {
      "cell_type": "code",
      "metadata": {
        "id": "LoP2df7OQCM6",
        "colab_type": "code",
        "colab": {
          "base_uri": "https://localhost:8080/",
          "height": 72
        },
        "outputId": "294ac700-67d4-46ab-aee2-65b7a8f32f2e"
      },
      "source": [
        "y = np_utils.to_categorical(cate)\n",
        "Y_train = y[:split]\n",
        "Y_test = y[split:]\n",
        "\n",
        "print (x_train.shape, x_test.shape)\n",
        "print (y_train.shape, y_test.shape)\n",
        "print (data.shape)"
      ],
      "execution_count": 39,
      "outputs": [
        {
          "output_type": "stream",
          "text": [
            "(6499, 22) (1625, 22)\n",
            "(6499,) (1625,)\n",
            "(8124, 23)\n"
          ],
          "name": "stdout"
        }
      ]
    },
    {
      "cell_type": "code",
      "metadata": {
        "id": "hx752_8VQMTU",
        "colab_type": "code",
        "colab": {
          "base_uri": "https://localhost:8080/",
          "height": 384
        },
        "outputId": "77bee052-5925-441f-be1a-da859c5252cc"
      },
      "source": [
        "model = Sequential()\n",
        "\n",
        "model.add(Dense(11, input_shape=(22,)))\n",
        "model.add(Activation('relu'))\n",
        "\n",
        "model.add(Dense(5))\n",
        "model.add(Activation('relu'))\n",
        "\n",
        "model.add(Dense(2))\n",
        "model.add(Activation('softmax'))\n",
        "\n",
        "model.summary()\n",
        "model.compile(loss='categorical_crossentropy', optimizer='adam', metrics=['accuracy'])"
      ],
      "execution_count": 40,
      "outputs": [
        {
          "output_type": "stream",
          "text": [
            "Model: \"sequential_2\"\n",
            "_________________________________________________________________\n",
            "Layer (type)                 Output Shape              Param #   \n",
            "=================================================================\n",
            "dense_4 (Dense)              (None, 11)                253       \n",
            "_________________________________________________________________\n",
            "activation_4 (Activation)    (None, 11)                0         \n",
            "_________________________________________________________________\n",
            "dense_5 (Dense)              (None, 5)                 60        \n",
            "_________________________________________________________________\n",
            "activation_5 (Activation)    (None, 5)                 0         \n",
            "_________________________________________________________________\n",
            "dense_6 (Dense)              (None, 2)                 12        \n",
            "_________________________________________________________________\n",
            "activation_6 (Activation)    (None, 2)                 0         \n",
            "=================================================================\n",
            "Total params: 325\n",
            "Trainable params: 325\n",
            "Non-trainable params: 0\n",
            "_________________________________________________________________\n"
          ],
          "name": "stdout"
        }
      ]
    },
    {
      "cell_type": "code",
      "metadata": {
        "id": "MtH8Nll6QVgm",
        "colab_type": "code",
        "colab": {
          "base_uri": "https://localhost:8080/",
          "height": 1000
        },
        "outputId": "d8d39416-3678-424b-9981-d7e3d41bbfb6"
      },
      "source": [
        "hist = model.fit(x_train, Y_train,\n",
        "         nb_epoch=70,\n",
        "         shuffle=True,\n",
        "         batch_size=128,\n",
        "         validation_data=(x_test, Y_test))\n",
        "\n"
      ],
      "execution_count": 41,
      "outputs": [
        {
          "output_type": "stream",
          "text": [
            "/usr/local/lib/python3.6/dist-packages/ipykernel_launcher.py:5: UserWarning: The `nb_epoch` argument in `fit` has been renamed `epochs`.\n",
            "  \"\"\"\n"
          ],
          "name": "stderr"
        },
        {
          "output_type": "stream",
          "text": [
            "Train on 6499 samples, validate on 1625 samples\n",
            "Epoch 1/70\n",
            "6499/6499 [==============================] - 0s 23us/step - loss: 0.7547 - accuracy: 0.6158 - val_loss: 0.4858 - val_accuracy: 0.9852\n",
            "Epoch 2/70\n",
            "6499/6499 [==============================] - 0s 11us/step - loss: 0.5658 - accuracy: 0.6818 - val_loss: 0.2412 - val_accuracy: 0.9698\n",
            "Epoch 3/70\n",
            "6499/6499 [==============================] - 0s 11us/step - loss: 0.4708 - accuracy: 0.7641 - val_loss: 0.1923 - val_accuracy: 0.9686\n",
            "Epoch 4/70\n",
            "6499/6499 [==============================] - 0s 12us/step - loss: 0.4154 - accuracy: 0.8224 - val_loss: 0.1708 - val_accuracy: 0.9723\n",
            "Epoch 5/70\n",
            "6499/6499 [==============================] - 0s 11us/step - loss: 0.3668 - accuracy: 0.8655 - val_loss: 0.1496 - val_accuracy: 0.9723\n",
            "Epoch 6/70\n",
            "6499/6499 [==============================] - 0s 12us/step - loss: 0.3093 - accuracy: 0.8981 - val_loss: 0.1463 - val_accuracy: 0.9674\n",
            "Epoch 7/70\n",
            "6499/6499 [==============================] - 0s 13us/step - loss: 0.2564 - accuracy: 0.9106 - val_loss: 0.1438 - val_accuracy: 0.9643\n",
            "Epoch 8/70\n",
            "6499/6499 [==============================] - 0s 11us/step - loss: 0.2212 - accuracy: 0.9177 - val_loss: 0.1438 - val_accuracy: 0.9588\n",
            "Epoch 9/70\n",
            "6499/6499 [==============================] - 0s 12us/step - loss: 0.1960 - accuracy: 0.9268 - val_loss: 0.1441 - val_accuracy: 0.9471\n",
            "Epoch 10/70\n",
            "6499/6499 [==============================] - 0s 12us/step - loss: 0.1776 - accuracy: 0.9318 - val_loss: 0.1463 - val_accuracy: 0.9434\n",
            "Epoch 11/70\n",
            "6499/6499 [==============================] - 0s 11us/step - loss: 0.1621 - accuracy: 0.9375 - val_loss: 0.1534 - val_accuracy: 0.9274\n",
            "Epoch 12/70\n",
            "6499/6499 [==============================] - 0s 12us/step - loss: 0.1492 - accuracy: 0.9423 - val_loss: 0.1561 - val_accuracy: 0.9237\n",
            "Epoch 13/70\n",
            "6499/6499 [==============================] - 0s 12us/step - loss: 0.1366 - accuracy: 0.9475 - val_loss: 0.1600 - val_accuracy: 0.9237\n",
            "Epoch 14/70\n",
            "6499/6499 [==============================] - 0s 12us/step - loss: 0.1262 - accuracy: 0.9518 - val_loss: 0.1708 - val_accuracy: 0.9077\n",
            "Epoch 15/70\n",
            "6499/6499 [==============================] - 0s 12us/step - loss: 0.1166 - accuracy: 0.9577 - val_loss: 0.1859 - val_accuracy: 0.8898\n",
            "Epoch 16/70\n",
            "6499/6499 [==============================] - 0s 12us/step - loss: 0.1074 - accuracy: 0.9617 - val_loss: 0.1784 - val_accuracy: 0.8972\n",
            "Epoch 17/70\n",
            "6499/6499 [==============================] - 0s 11us/step - loss: 0.0977 - accuracy: 0.9685 - val_loss: 0.1896 - val_accuracy: 0.8905\n",
            "Epoch 18/70\n",
            "6499/6499 [==============================] - 0s 12us/step - loss: 0.0884 - accuracy: 0.9723 - val_loss: 0.1941 - val_accuracy: 0.8898\n",
            "Epoch 19/70\n",
            "6499/6499 [==============================] - 0s 12us/step - loss: 0.0797 - accuracy: 0.9789 - val_loss: 0.2076 - val_accuracy: 0.8763\n",
            "Epoch 20/70\n",
            "6499/6499 [==============================] - 0s 11us/step - loss: 0.0722 - accuracy: 0.9838 - val_loss: 0.2077 - val_accuracy: 0.8788\n",
            "Epoch 21/70\n",
            "6499/6499 [==============================] - 0s 11us/step - loss: 0.0660 - accuracy: 0.9865 - val_loss: 0.2153 - val_accuracy: 0.8806\n",
            "Epoch 22/70\n",
            "6499/6499 [==============================] - 0s 11us/step - loss: 0.0602 - accuracy: 0.9880 - val_loss: 0.2233 - val_accuracy: 0.8732\n",
            "Epoch 23/70\n",
            "6499/6499 [==============================] - 0s 11us/step - loss: 0.0544 - accuracy: 0.9914 - val_loss: 0.2215 - val_accuracy: 0.8775\n",
            "Epoch 24/70\n",
            "6499/6499 [==============================] - 0s 12us/step - loss: 0.0497 - accuracy: 0.9914 - val_loss: 0.2548 - val_accuracy: 0.8609\n",
            "Epoch 25/70\n",
            "6499/6499 [==============================] - 0s 12us/step - loss: 0.0453 - accuracy: 0.9935 - val_loss: 0.2544 - val_accuracy: 0.8732\n",
            "Epoch 26/70\n",
            "6499/6499 [==============================] - 0s 11us/step - loss: 0.0404 - accuracy: 0.9938 - val_loss: 0.3195 - val_accuracy: 0.8492\n",
            "Epoch 27/70\n",
            "6499/6499 [==============================] - 0s 11us/step - loss: 0.0342 - accuracy: 0.9960 - val_loss: 0.3099 - val_accuracy: 0.8615\n",
            "Epoch 28/70\n",
            "6499/6499 [==============================] - 0s 11us/step - loss: 0.0289 - accuracy: 0.9966 - val_loss: 0.3595 - val_accuracy: 0.8542\n",
            "Epoch 29/70\n",
            "6499/6499 [==============================] - 0s 12us/step - loss: 0.0242 - accuracy: 0.9969 - val_loss: 0.3525 - val_accuracy: 0.8609\n",
            "Epoch 30/70\n",
            "6499/6499 [==============================] - 0s 12us/step - loss: 0.0213 - accuracy: 0.9980 - val_loss: 0.3301 - val_accuracy: 0.8665\n",
            "Epoch 31/70\n",
            "6499/6499 [==============================] - 0s 12us/step - loss: 0.0193 - accuracy: 0.9980 - val_loss: 0.3098 - val_accuracy: 0.8689\n",
            "Epoch 32/70\n",
            "6499/6499 [==============================] - 0s 12us/step - loss: 0.0174 - accuracy: 0.9974 - val_loss: 0.3328 - val_accuracy: 0.8665\n",
            "Epoch 33/70\n",
            "6499/6499 [==============================] - 0s 11us/step - loss: 0.0157 - accuracy: 0.9983 - val_loss: 0.3751 - val_accuracy: 0.8609\n",
            "Epoch 34/70\n",
            "6499/6499 [==============================] - 0s 11us/step - loss: 0.0144 - accuracy: 0.9992 - val_loss: 0.4083 - val_accuracy: 0.8523\n",
            "Epoch 35/70\n",
            "6499/6499 [==============================] - 0s 11us/step - loss: 0.0132 - accuracy: 0.9989 - val_loss: 0.3719 - val_accuracy: 0.8640\n",
            "Epoch 36/70\n",
            "6499/6499 [==============================] - 0s 12us/step - loss: 0.0122 - accuracy: 0.9992 - val_loss: 0.3651 - val_accuracy: 0.8665\n",
            "Epoch 37/70\n",
            "6499/6499 [==============================] - 0s 11us/step - loss: 0.0113 - accuracy: 0.9992 - val_loss: 0.3808 - val_accuracy: 0.8652\n",
            "Epoch 38/70\n",
            "6499/6499 [==============================] - 0s 11us/step - loss: 0.0107 - accuracy: 0.9989 - val_loss: 0.3583 - val_accuracy: 0.8689\n",
            "Epoch 39/70\n",
            "6499/6499 [==============================] - 0s 11us/step - loss: 0.0098 - accuracy: 0.9992 - val_loss: 0.3261 - val_accuracy: 0.8782\n",
            "Epoch 40/70\n",
            "6499/6499 [==============================] - 0s 11us/step - loss: 0.0091 - accuracy: 0.9995 - val_loss: 0.3873 - val_accuracy: 0.8646\n",
            "Epoch 41/70\n",
            "6499/6499 [==============================] - 0s 11us/step - loss: 0.0084 - accuracy: 0.9994 - val_loss: 0.3418 - val_accuracy: 0.8751\n",
            "Epoch 42/70\n",
            "6499/6499 [==============================] - 0s 12us/step - loss: 0.0079 - accuracy: 0.9995 - val_loss: 0.3605 - val_accuracy: 0.8708\n",
            "Epoch 43/70\n",
            "6499/6499 [==============================] - 0s 12us/step - loss: 0.0076 - accuracy: 0.9995 - val_loss: 0.3325 - val_accuracy: 0.8812\n",
            "Epoch 44/70\n",
            "6499/6499 [==============================] - 0s 11us/step - loss: 0.0071 - accuracy: 0.9995 - val_loss: 0.3219 - val_accuracy: 0.8880\n",
            "Epoch 45/70\n",
            "6499/6499 [==============================] - 0s 12us/step - loss: 0.0067 - accuracy: 0.9995 - val_loss: 0.3062 - val_accuracy: 0.8898\n",
            "Epoch 46/70\n",
            "6499/6499 [==============================] - 0s 13us/step - loss: 0.0065 - accuracy: 0.9997 - val_loss: 0.4169 - val_accuracy: 0.8609\n",
            "Epoch 47/70\n",
            "6499/6499 [==============================] - 0s 12us/step - loss: 0.0062 - accuracy: 0.9995 - val_loss: 0.3421 - val_accuracy: 0.8818\n",
            "Epoch 48/70\n",
            "6499/6499 [==============================] - 0s 11us/step - loss: 0.0057 - accuracy: 0.9995 - val_loss: 0.3401 - val_accuracy: 0.8849\n",
            "Epoch 49/70\n",
            "6499/6499 [==============================] - 0s 11us/step - loss: 0.0053 - accuracy: 0.9995 - val_loss: 0.3256 - val_accuracy: 0.8868\n",
            "Epoch 50/70\n",
            "6499/6499 [==============================] - 0s 11us/step - loss: 0.0051 - accuracy: 0.9995 - val_loss: 0.3296 - val_accuracy: 0.8855\n",
            "Epoch 51/70\n",
            "6499/6499 [==============================] - 0s 11us/step - loss: 0.0049 - accuracy: 0.9995 - val_loss: 0.2840 - val_accuracy: 0.8960\n",
            "Epoch 52/70\n",
            "6499/6499 [==============================] - 0s 11us/step - loss: 0.0046 - accuracy: 0.9997 - val_loss: 0.2945 - val_accuracy: 0.8935\n",
            "Epoch 53/70\n",
            "6499/6499 [==============================] - 0s 12us/step - loss: 0.0044 - accuracy: 0.9997 - val_loss: 0.3250 - val_accuracy: 0.8874\n",
            "Epoch 54/70\n",
            "6499/6499 [==============================] - 0s 11us/step - loss: 0.0044 - accuracy: 0.9995 - val_loss: 0.3256 - val_accuracy: 0.8880\n",
            "Epoch 55/70\n",
            "6499/6499 [==============================] - 0s 11us/step - loss: 0.0040 - accuracy: 0.9997 - val_loss: 0.2719 - val_accuracy: 0.9028\n",
            "Epoch 56/70\n",
            "6499/6499 [==============================] - 0s 11us/step - loss: 0.0038 - accuracy: 0.9995 - val_loss: 0.3607 - val_accuracy: 0.8788\n",
            "Epoch 57/70\n",
            "6499/6499 [==============================] - 0s 11us/step - loss: 0.0037 - accuracy: 0.9997 - val_loss: 0.2890 - val_accuracy: 0.9003\n",
            "Epoch 58/70\n",
            "6499/6499 [==============================] - 0s 12us/step - loss: 0.0035 - accuracy: 0.9997 - val_loss: 0.3020 - val_accuracy: 0.8966\n",
            "Epoch 59/70\n",
            "6499/6499 [==============================] - 0s 11us/step - loss: 0.0034 - accuracy: 0.9995 - val_loss: 0.2617 - val_accuracy: 0.9071\n",
            "Epoch 60/70\n",
            "6499/6499 [==============================] - 0s 12us/step - loss: 0.0033 - accuracy: 0.9995 - val_loss: 0.2289 - val_accuracy: 0.9157\n",
            "Epoch 61/70\n",
            "6499/6499 [==============================] - 0s 11us/step - loss: 0.0032 - accuracy: 0.9997 - val_loss: 0.2782 - val_accuracy: 0.9040\n",
            "Epoch 62/70\n",
            "6499/6499 [==============================] - 0s 12us/step - loss: 0.0032 - accuracy: 0.9997 - val_loss: 0.2838 - val_accuracy: 0.9009\n",
            "Epoch 63/70\n",
            "6499/6499 [==============================] - 0s 11us/step - loss: 0.0029 - accuracy: 0.9997 - val_loss: 0.2492 - val_accuracy: 0.9095\n",
            "Epoch 64/70\n",
            "6499/6499 [==============================] - 0s 11us/step - loss: 0.0028 - accuracy: 0.9997 - val_loss: 0.2720 - val_accuracy: 0.9052\n",
            "Epoch 65/70\n",
            "6499/6499 [==============================] - 0s 11us/step - loss: 0.0026 - accuracy: 0.9997 - val_loss: 0.2129 - val_accuracy: 0.9169\n",
            "Epoch 66/70\n",
            "6499/6499 [==============================] - 0s 11us/step - loss: 0.0026 - accuracy: 0.9997 - val_loss: 0.2751 - val_accuracy: 0.9028\n",
            "Epoch 67/70\n",
            "6499/6499 [==============================] - 0s 12us/step - loss: 0.0025 - accuracy: 0.9997 - val_loss: 0.2626 - val_accuracy: 0.9065\n",
            "Epoch 68/70\n",
            "6499/6499 [==============================] - 0s 11us/step - loss: 0.0023 - accuracy: 0.9997 - val_loss: 0.2634 - val_accuracy: 0.9058\n",
            "Epoch 69/70\n",
            "6499/6499 [==============================] - 0s 12us/step - loss: 0.0023 - accuracy: 0.9997 - val_loss: 0.2829 - val_accuracy: 0.8997\n",
            "Epoch 70/70\n",
            "6499/6499 [==============================] - 0s 11us/step - loss: 0.0022 - accuracy: 0.9995 - val_loss: 0.1791 - val_accuracy: 0.9335\n"
          ],
          "name": "stdout"
        }
      ]
    },
    {
      "cell_type": "code",
      "metadata": {
        "id": "M2tW7wLWQYDw",
        "colab_type": "code",
        "colab": {
          "base_uri": "https://localhost:8080/",
          "height": 462
        },
        "outputId": "31bfbc76-f82b-40d4-9b18-cf1ed12739fc"
      },
      "source": [
        "plt.figure(figsize=(14,3))\n",
        "plt.subplot(1, 2, 1)\n",
        "plt.suptitle('Optimizer : Adam', fontsize=10)\n",
        "plt.ylabel('Loss', fontsize=16)\n",
        "plt.plot(hist.history['loss'], 'b', label='Training Loss')\n",
        "plt.plot(hist.history['val_loss'], 'r', label='Validation Loss')\n",
        "plt.legend(loc='upper right')\n",
        "\n",
        "plt.subplot(1, 2, 2)\n",
        "plt.ylabel('Accuracy', fontsize=16)\n",
        "plt.plot(hist.history['acc'], 'b', label='Training Accuracy')\n",
        "plt.plot(hist.history['val_acc'], 'r', label='Validation Accuracy')\n",
        "plt.legend(loc='lower right')\n",
        "plt.show()"
      ],
      "execution_count": 45,
      "outputs": [
        {
          "output_type": "error",
          "ename": "KeyError",
          "evalue": "ignored",
          "traceback": [
            "\u001b[0;31m---------------------------------------------------------------------------\u001b[0m",
            "\u001b[0;31mKeyError\u001b[0m                                  Traceback (most recent call last)",
            "\u001b[0;32m<ipython-input-45-a34daf10167a>\u001b[0m in \u001b[0;36m<module>\u001b[0;34m()\u001b[0m\n\u001b[1;32m      9\u001b[0m \u001b[0mplt\u001b[0m\u001b[0;34m.\u001b[0m\u001b[0msubplot\u001b[0m\u001b[0;34m(\u001b[0m\u001b[0;36m1\u001b[0m\u001b[0;34m,\u001b[0m \u001b[0;36m2\u001b[0m\u001b[0;34m,\u001b[0m \u001b[0;36m2\u001b[0m\u001b[0;34m)\u001b[0m\u001b[0;34m\u001b[0m\u001b[0;34m\u001b[0m\u001b[0m\n\u001b[1;32m     10\u001b[0m \u001b[0mplt\u001b[0m\u001b[0;34m.\u001b[0m\u001b[0mylabel\u001b[0m\u001b[0;34m(\u001b[0m\u001b[0;34m'Accuracy'\u001b[0m\u001b[0;34m,\u001b[0m \u001b[0mfontsize\u001b[0m\u001b[0;34m=\u001b[0m\u001b[0;36m16\u001b[0m\u001b[0;34m)\u001b[0m\u001b[0;34m\u001b[0m\u001b[0;34m\u001b[0m\u001b[0m\n\u001b[0;32m---> 11\u001b[0;31m \u001b[0mplt\u001b[0m\u001b[0;34m.\u001b[0m\u001b[0mplot\u001b[0m\u001b[0;34m(\u001b[0m\u001b[0mhist\u001b[0m\u001b[0;34m.\u001b[0m\u001b[0mhistory\u001b[0m\u001b[0;34m[\u001b[0m\u001b[0;34m'acc'\u001b[0m\u001b[0;34m]\u001b[0m\u001b[0;34m,\u001b[0m \u001b[0;34m'b'\u001b[0m\u001b[0;34m,\u001b[0m \u001b[0mlabel\u001b[0m\u001b[0;34m=\u001b[0m\u001b[0;34m'Training Accuracy'\u001b[0m\u001b[0;34m)\u001b[0m\u001b[0;34m\u001b[0m\u001b[0;34m\u001b[0m\u001b[0m\n\u001b[0m\u001b[1;32m     12\u001b[0m \u001b[0mplt\u001b[0m\u001b[0;34m.\u001b[0m\u001b[0mplot\u001b[0m\u001b[0;34m(\u001b[0m\u001b[0mhist\u001b[0m\u001b[0;34m.\u001b[0m\u001b[0mhistory\u001b[0m\u001b[0;34m[\u001b[0m\u001b[0;34m'val_acc'\u001b[0m\u001b[0;34m]\u001b[0m\u001b[0;34m,\u001b[0m \u001b[0;34m'r'\u001b[0m\u001b[0;34m,\u001b[0m \u001b[0mlabel\u001b[0m\u001b[0;34m=\u001b[0m\u001b[0;34m'Validation Accuracy'\u001b[0m\u001b[0;34m)\u001b[0m\u001b[0;34m\u001b[0m\u001b[0;34m\u001b[0m\u001b[0m\n\u001b[1;32m     13\u001b[0m \u001b[0mplt\u001b[0m\u001b[0;34m.\u001b[0m\u001b[0mlegend\u001b[0m\u001b[0;34m(\u001b[0m\u001b[0mloc\u001b[0m\u001b[0;34m=\u001b[0m\u001b[0;34m'lower right'\u001b[0m\u001b[0;34m)\u001b[0m\u001b[0;34m\u001b[0m\u001b[0;34m\u001b[0m\u001b[0m\n",
            "\u001b[0;31mKeyError\u001b[0m: 'acc'"
          ]
        },
        {
          "output_type": "display_data",
          "data": {
            "image/png": "[encoded data removed]",
            "text/plain": [
              "<Figure size 1008x216 with 2 Axes>"
            ]
          },
          "metadata": {
            "tags": [],
            "needs_background": "light"
          }
        }
      ]
    }
  ]
}