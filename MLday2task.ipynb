{
  "nbformat": 4,
  "nbformat_minor": 0,
  "metadata": {
    "colab": {
      "name": "Untitled1.ipynb",
      "provenance": [],
      "collapsed_sections": [],
      "authorship_tag": "ABX9TyP+p8eufhpys2qQabpWdP4H",
      "include_colab_link": true
    },
    "kernelspec": {
      "name": "python3",
      "display_name": "Python 3"
    }
  },
  "cells": [
    {
      "cell_type": "markdown",
      "metadata": {
        "id": "view-in-github",
        "colab_type": "text"
      },
      "source": [
        "<a href=\"https://colab.research.google.com/github/soham283/Codersweek-ML/blob/master/MLday2task.ipynb\" target=\"_parent\"><img src=\"https://colab.research.google.com/assets/colab-badge.svg\" alt=\"Open In Colab\"/></a>"
      ]
    },
    {
      "cell_type": "code",
      "metadata": {
        "id": "AYqCuyPX7USq",
        "colab_type": "code",
        "colab": {}
      },
      "source": [
        "#1 Importing the librariesimport numpy as np\n",
        "import matplotlib.pyplot as plt\n",
        "import pandas as pd\n",
        "import numpy as np\n",
        "\n",
        "\n",
        "#2 Importing the dataset\n",
        "\n",
        "dataset = pd.read_csv('http://iali.in/datasets/Social_Network_Ads.csv ')\n",
        "X = dataset.iloc[:, [2, 3]].values\n",
        "y = dataset.iloc[:, 4].values\n",
        "\n",
        "#3 Splitting the dataset into the Training set and Test set\n",
        "from sklearn.model_selection import train_test_split\n",
        "X_train, X_test, y_train, y_test = train_test_split(X, y, test_size = 0.25, random_state = 0)"
      ],
      "execution_count": 0,
      "outputs": []
    },
    {
      "cell_type": "code",
      "metadata": {
        "id": "t7kzrF_9-AmL",
        "colab_type": "code",
        "colab": {
          "base_uri": "https://localhost:8080/",
          "height": 35
        },
        "outputId": "faa14010-c88f-4313-9be0-545aa806e12f"
      },
      "source": [
        "#4 Feature Scaling\n",
        "from sklearn.preprocessing import StandardScaler\n",
        "sc_X = StandardScaler()\n",
        "X_train = sc_X.fit_transform(X_train)\n",
        "X_test = sc_X.transform(X_test)\n",
        "#It does not need to scale y_train because it contains categorical \n",
        "#data \n",
        "\"\"\"sc_y = StandardScaler()\n",
        "y_train = sc_y.fit_transform(y_train)\"\"\""
      ],
      "execution_count": 10,
      "outputs": [
        {
          "output_type": "execute_result",
          "data": {
            "text/plain": [
              "'sc_y = StandardScaler()\\ny_train = sc_y.fit_transform(y_train)'"
            ]
          },
          "metadata": {
            "tags": []
          },
          "execution_count": 10
        }
      ]
    },
    {
      "cell_type": "code",
      "metadata": {
        "id": "7BFTNqpV-_2p",
        "colab_type": "code",
        "colab": {}
      },
      "source": [
        "#Import the LogisticRegression class from the sklearn.linear_model\n",
        "#library\n",
        "from sklearn.linear_model import LogisticRegression\n",
        "#There are many optional parameters. Lets only use random_state=0\n",
        "#We create a classifier object of LR class\n",
        "classifier= LogisticRegression(random_state=0)\n",
        "#Fit logistic regression model to the training set (X_train and #y_train)\n",
        "classifier.fit(X_train, y_train)\n",
        "#6 Predicting the Test set results\n",
        "#Using predict method for the classifier object and put X_test for #argument\n",
        "y_pred = classifier.predict(X_test)"
      ],
      "execution_count": 0,
      "outputs": []
    },
    {
      "cell_type": "code",
      "metadata": {
        "id": "U-pfe_lx_7mj",
        "colab_type": "code",
        "colab": {}
      },
      "source": [
        "#7 Making the Confusion Matrix. It contains the correct and\n",
        "#incorrect predictions of our model \n",
        "#import confusion_matrix function from sklearn.metrics library\n",
        "from sklearn.metrics import confusion_matrix\n",
        "#y_true parameter will be y_test\n",
        "#y_pred is the logistic regression model prediction\n",
        "cm=confusion_matrix(y_test, y_pred)"
      ],
      "execution_count": 0,
      "outputs": []
    },
    {
      "cell_type": "code",
      "metadata": {
        "id": "Q9VfeIlLAPYl",
        "colab_type": "code",
        "colab": {
          "base_uri": "https://localhost:8080/",
          "height": 352
        },
        "outputId": "2042a6da-1d6b-4678-e07b-c0848d79bd76"
      },
      "source": [
        "#8 Visualizing the Training Set results: \n",
        "#ListedColormap class help us to colorize the data points.\n",
        "from matplotlib.colors import ListedColormap\n",
        "#Create local variables X_set and y_set. Because we use these\n",
        "#variables again in the test set\n",
        "X_set, y_set= X_train, y_train\n",
        "#Create the grid. step=0.01 means all the pixels were actually with\n",
        "#a 0.01 resolution. min and max of the \n",
        "#X_Set use with minus ana plus one to prevent ponits to be squeezed \n",
        "#on the axes.\n",
        "X1,X2 = np.meshgrid(np.arange(start =X_set[:, 0].min() -1, stop=X_set[:, 0].max()+1, step = 0.01),\n",
        "                    np.arange(start =X_set[:, 1].min() -1, stop=X_set[:, 1].max()+1, step = 0.01))\n",
        "#This is the line applying the classifier on all the pixel\n",
        "#observation points. It colors all the red pixel \n",
        "#points and the blue pixel points. contour function make the contour \n",
        "#between red and blue regions.\n",
        "plt.contourf(X1,X2, classifier.predict(np.array([X1.ravel(), X2.ravel()]).T).reshape(X1.shape),alpha=0.75, \n",
        "             cmap = ListedColormap(('red','blue')))\n",
        "#plot the limits of the age and the estimated salary lines.\n",
        "plt.xlim((X1.min(),X1.max()))\n",
        "plt.ylim((X2.min(),X2.max()))\n",
        "#This loop here plots all the data points that are the real values.\n",
        " \n",
        "for i,j in enumerate(np.unique(y_set)):\n",
        "     plt.scatter(X_set[y_set==j,0], X_set[y_set==j,1], c= ListedColormap(('red','blue'))(i) ,label= j)\n",
        "\n",
        "#Add the name of the plot and the labels.\n",
        "plt.title('Logistic Regression(Training Set)')\n",
        "plt.xlabel('Age')\n",
        "plt.ylabel('Estimated Salary')\n",
        "plt.legend()\n",
        "plt.show()"
      ],
      "execution_count": 13,
      "outputs": [
        {
          "output_type": "stream",
          "text": [
            "'c' argument looks like a single numeric RGB or RGBA sequence, which should be avoided as value-mapping will have precedence in case its length matches with 'x' & 'y'.  Please use a 2-D array with a single row if you really want to specify the same RGB or RGBA value for all points.\n",
            "'c' argument looks like a single numeric RGB or RGBA sequence, which should be avoided as value-mapping will have precedence in case its length matches with 'x' & 'y'.  Please use a 2-D array with a single row if you really want to specify the same RGB or RGBA value for all points.\n"
          ],
          "name": "stderr"
        },
        {
          "output_type": "display_data",
          "data": {
            "image/png": "[encoded data removed]",
            "text/plain": [
              "<Figure size 432x288 with 1 Axes>"
            ]
          },
          "metadata": {
            "tags": [],
            "needs_background": "light"
          }
        }
      ]
    },
    {
      "cell_type": "code",
      "metadata": {
        "id": "xF7bBljrQzmw",
        "colab_type": "code",
        "colab": {
          "base_uri": "https://localhost:8080/",
          "height": 352
        },
        "outputId": "0958c756-df72-4038-92f6-22c3195ffd51"
      },
      "source": [
        "#9 Visualizing the Test Set results:from matplotlib.colors import ListedColormap\n",
        "X_set, y_set= X_test, y_test\n",
        "X1,X2 = np.meshgrid(np.arange(start =X_set[:, 0].min() -1, stop=X_set[:, 0].max()+1, step = 0.01),\n",
        "                    np.arange(start =X_set[:, 1].min() -1, stop=X_set[:, 1].max()+1, step = 0.01))\n",
        "plt.contourf(X1,X2, classifier.predict(np.array([X1.ravel(), X2.ravel()]).T).reshape(X1.shape),alpha=0.75, \n",
        "             cmap = ListedColormap(('red','blue')))\n",
        "plt.xlim((X1.min(),X1.max()))\n",
        "plt.ylim((X2.min(),X2.max()))\n",
        "for i,j in enumerate(np.unique(y_set)):\n",
        "     plt.scatter(X_set[y_set==j,0], X_set[y_set==j,1], c= ListedColormap(('red','blue'))(i) ,label= j) \n",
        "plt.title('Logistic Regression(Test Set)')\n",
        "plt.xlabel('Age')\n",
        "plt.ylabel('Estimated Salary')\n",
        "plt.legend()\n",
        "plt.show()"
      ],
      "execution_count": 14,
      "outputs": [
        {
          "output_type": "stream",
          "text": [
            "'c' argument looks like a single numeric RGB or RGBA sequence, which should be avoided as value-mapping will have precedence in case its length matches with 'x' & 'y'.  Please use a 2-D array with a single row if you really want to specify the same RGB or RGBA value for all points.\n",
            "'c' argument looks like a single numeric RGB or RGBA sequence, which should be avoided as value-mapping will have precedence in case its length matches with 'x' & 'y'.  Please use a 2-D array with a single row if you really want to specify the same RGB or RGBA value for all points.\n"
          ],
          "name": "stderr"
        },
        {
          "output_type": "display_data",
          "data": {
            "image/png": "[encoded data removed]",
            "text/plain": [
              "<Figure size 432x288 with 1 Axes>"
            ]
          },
          "metadata": {
            "tags": [],
            "needs_background": "light"
          }
        }
      ]
    },
    {
      "cell_type": "code",
      "metadata": {
        "id": "n1zrBDYxB1D-",
        "colab_type": "code",
        "colab": {}
      },
      "source": [
        ""
      ],
      "execution_count": 0,
      "outputs": []
    }
  ]
}